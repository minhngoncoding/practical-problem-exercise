{
 "cells": [
  {
   "cell_type": "markdown",
   "id": "764544b4-3134-4bfe-8c3b-681f71289297",
   "metadata": {},
   "source": [
    "# Đặng Minh Ngôn - 2370341"
   ]
  },
  {
   "cell_type": "code",
   "execution_count": 28,
   "id": "a7805a62-4092-400f-8337-7fd4df0ee24f",
   "metadata": {},
   "outputs": [],
   "source": [
    "import math\n",
    "import numpy as np\n",
    "import pandas as pd"
   ]
  },
  {
   "cell_type": "code",
   "execution_count": 2,
   "id": "2b6606bd-073b-49b1-ba0b-c22250d5a595",
   "metadata": {},
   "outputs": [],
   "source": [
    "train = pd.read_csv(\"../data/train.csv\")"
   ]
  },
  {
   "cell_type": "code",
   "execution_count": 3,
   "id": "d15b9c44-c49a-473c-833a-3b1c3685a1a4",
   "metadata": {},
   "outputs": [
    {
     "name": "stdout",
     "output_type": "stream",
     "text": [
      "   ID  Age  CreditScore  Education RiskLevel\n",
      "0   1   35          720       16.0      Low \n",
      "1   2   28          650       14.0      High\n",
      "2   3   45          750        NaN      Low \n",
      "3   4   31          600       12.0      High\n",
      "4   5   52          780       18.0      Low \n",
      "5   6   29          630       14.0      High\n",
      "6   7   42          710       16.0      Low \n",
      "7   8   33          640       12.0      High\n"
     ]
    }
   ],
   "source": [
    "print(train)"
   ]
  },
  {
   "cell_type": "code",
   "execution_count": 16,
   "id": "2bd8d3db-093a-47b1-9dc5-164f0c33e94d",
   "metadata": {},
   "outputs": [],
   "source": [
    "def entropy(labels):\n",
    "    total = len(labels)\n",
    "    if total == 0:\n",
    "        return 0\n",
    "        \n",
    "    counts = labels.value_counts()\n",
    "    # print(total, counts)\n",
    "\n",
    "    return -sum((count / total) * math.log2(count / total) for count in counts)\n",
    "    "
   ]
  },
  {
   "cell_type": "markdown",
   "id": "b35152fc-a6a6-4101-9f28-68ac72630a4f",
   "metadata": {},
   "source": [
    "# Question 1"
   ]
  },
  {
   "cell_type": "code",
   "execution_count": 17,
   "id": "8d30dd7b-1d3a-4cc9-930a-720fec8d617c",
   "metadata": {},
   "outputs": [],
   "source": [
    "# Full dataset entropy\n",
    "full_entropy = entropy(train[\"RiskLevel\"])"
   ]
  },
  {
   "cell_type": "code",
   "execution_count": 18,
   "id": "274c13f0-3160-4fc3-85b4-9426ba751f1e",
   "metadata": {},
   "outputs": [
    {
     "data": {
      "text/plain": [
       "1.0"
      ]
     },
     "execution_count": 18,
     "metadata": {},
     "output_type": "execute_result"
    }
   ],
   "source": [
    "full_entropy"
   ]
  },
  {
   "cell_type": "code",
   "execution_count": 19,
   "id": "46e567db-0036-45f9-8cd8-d36d684b2ab6",
   "metadata": {},
   "outputs": [],
   "source": [
    "# Split the data where CreditScore <=650\n",
    "left_split = train[train['CreditScore'] <= 650]\n",
    "right_split = train[train['CreditScore'] > 650]"
   ]
  },
  {
   "cell_type": "code",
   "execution_count": 20,
   "id": "dbe0fd41-1a3b-409c-930c-0b48e8668610",
   "metadata": {},
   "outputs": [
    {
     "name": "stdout",
     "output_type": "stream",
     "text": [
      "   ID  Age  CreditScore  Education RiskLevel\n",
      "1   2   28          650       14.0      High\n",
      "3   4   31          600       12.0      High\n",
      "5   6   29          630       14.0      High\n",
      "7   8   33          640       12.0      High    ID  Age  CreditScore  Education RiskLevel\n",
      "0   1   35          720       16.0      Low \n",
      "2   3   45          750        NaN      Low \n",
      "4   5   52          780       18.0      Low \n",
      "6   7   42          710       16.0      Low \n"
     ]
    }
   ],
   "source": [
    "print(left_split, right_split)"
   ]
  },
  {
   "cell_type": "code",
   "execution_count": 21,
   "id": "a5bdd8d3-0c72-4aba-a2dc-973e0a03537d",
   "metadata": {},
   "outputs": [],
   "source": [
    "weighted_entropy = (len(left_split) / len(train)) * entropy(left_split['RiskLevel']) + \\\n",
    "                   (len(right_split) / len(train)) * entropy(right_split['RiskLevel'])"
   ]
  },
  {
   "cell_type": "code",
   "execution_count": 22,
   "id": "005e6b04-a0e6-4b2f-ab25-b2029608de38",
   "metadata": {},
   "outputs": [
    {
     "name": "stdout",
     "output_type": "stream",
     "text": [
      "-0.0\n"
     ]
    }
   ],
   "source": [
    "print(weighted_entropy)"
   ]
  },
  {
   "cell_type": "code",
   "execution_count": 23,
   "id": "1cb37d42-eeb0-4ee3-a5c8-98ba5a771924",
   "metadata": {},
   "outputs": [],
   "source": [
    "info_gain = full_entropy - weighted_entropy"
   ]
  },
  {
   "cell_type": "code",
   "execution_count": 24,
   "id": "27e61413-bd0e-480d-8896-e989286c3ba4",
   "metadata": {},
   "outputs": [
    {
     "name": "stdout",
     "output_type": "stream",
     "text": [
      "Full Entropy: 1.0000\n",
      "Left Split Entropy (<= 650): -0.0000\n",
      "Right Split Entropy (> 650): -0.0000\n",
      "Information Gain for splitting at CreditScore = 650: 1.0000\n"
     ]
    }
   ],
   "source": [
    "print(f\"Full Entropy: {full_entropy:.4f}\")\n",
    "print(f\"Left Split Entropy (<= 650): {entropy(left_split['RiskLevel']):.4f}\")\n",
    "print(f\"Right Split Entropy (> 650): {entropy(right_split['RiskLevel']):.4f}\")\n",
    "print(f\"Information Gain for splitting at CreditScore = 650: {info_gain:.4f}\")"
   ]
  },
  {
   "cell_type": "markdown",
   "id": "ae3805a5-9cec-4c38-8c19-3af80ff2cfca",
   "metadata": {},
   "source": [
    "### Because Information Gain is = 1 so this is the best node to split"
   ]
  },
  {
   "cell_type": "markdown",
   "id": "2eadf8a7-9e49-4cee-96d8-686493ea1de2",
   "metadata": {},
   "source": [
    "# Question 2"
   ]
  },
  {
   "cell_type": "code",
   "execution_count": 29,
   "id": "f1bf16de-f6dd-41c4-9c56-9d678db066f9",
   "metadata": {},
   "outputs": [],
   "source": [
    "# All credit scores and corresponding ages\n",
    "ages = train['Age'].values\n",
    "credit_scores = train['CreditScore'].values"
   ]
  },
  {
   "cell_type": "code",
   "execution_count": 30,
   "id": "706120fb-3631-427c-933e-ec620411aabc",
   "metadata": {},
   "outputs": [
    {
     "name": "stdout",
     "output_type": "stream",
     "text": [
      "[35 28 45 31 52 29 42 33]\n"
     ]
    }
   ],
   "source": [
    "print(ages)"
   ]
  },
  {
   "cell_type": "code",
   "execution_count": 36,
   "id": "366ac366-96af-475e-9b14-a6b6228148b8",
   "metadata": {},
   "outputs": [],
   "source": [
    "# Total variance before split\n",
    "mean_total = np.mean(credit_scores)\n",
    "var_total = np.mean((credit_scores - mean_total) ** 2)"
   ]
  },
  {
   "cell_type": "code",
   "execution_count": 37,
   "id": "c53b4ff7-dc1f-4200-95ba-8d23dc4f2432",
   "metadata": {},
   "outputs": [
    {
     "name": "stdout",
     "output_type": "stream",
     "text": [
      "3575.0\n"
     ]
    }
   ],
   "source": [
    "print(var_total)"
   ]
  },
  {
   "cell_type": "code",
   "execution_count": 32,
   "id": "4d4aa3df-bd7f-4598-bf09-31b93d8048af",
   "metadata": {},
   "outputs": [],
   "source": [
    "# Split by Age <= 35 and Age > 35\n",
    "left = credit_scores[ages <= 35]\n",
    "right = credit_scores[ages > 35]"
   ]
  },
  {
   "cell_type": "code",
   "execution_count": 38,
   "id": "e4d51c1a-99cc-40b7-8de9-e03d58ab4314",
   "metadata": {},
   "outputs": [
    {
     "name": "stdout",
     "output_type": "stream",
     "text": [
      "[720 650 600 630 640]\n",
      "[750 780 710]\n"
     ]
    }
   ],
   "source": [
    "print(left)\n",
    "print(right)"
   ]
  },
  {
   "cell_type": "code",
   "execution_count": 33,
   "id": "2461b6d0-6ecb-4e65-a0f9-7f3955b30018",
   "metadata": {},
   "outputs": [],
   "source": [
    "var_left = np.mean((left - np.mean(left)) ** 2)\n",
    "var_right = np.mean((right - np.mean(right)) ** 2)"
   ]
  },
  {
   "cell_type": "code",
   "execution_count": 39,
   "id": "284a2e6a-10ff-4900-854c-9f0a0ac78ea9",
   "metadata": {},
   "outputs": [
    {
     "name": "stdout",
     "output_type": "stream",
     "text": [
      "1576.0\n",
      "822.2222222222222\n"
     ]
    }
   ],
   "source": [
    "print(var_left)\n",
    "print(var_right)"
   ]
  },
  {
   "cell_type": "code",
   "execution_count": 41,
   "id": "72cd4e1e-71e5-46fc-b434-3945686a1c4a",
   "metadata": {},
   "outputs": [],
   "source": [
    "weighted_var_after = (len(left) / len(credit_scores)) * var_left + \\\n",
    "                     (len(right) / len(credit_scores)) * var_right"
   ]
  },
  {
   "cell_type": "code",
   "execution_count": 42,
   "id": "471c55e4-1995-4941-9bf1-cdd05aff54eb",
   "metadata": {},
   "outputs": [
    {
     "data": {
      "text/plain": [
       "1293.3333333333333"
      ]
     },
     "execution_count": 42,
     "metadata": {},
     "output_type": "execute_result"
    }
   ],
   "source": [
    "weighted_var_after"
   ]
  },
  {
   "cell_type": "code",
   "execution_count": 40,
   "id": "978a4680-0009-4b95-89fb-38152d9c1f97",
   "metadata": {},
   "outputs": [
    {
     "data": {
      "text/plain": [
       "2281.666666666667"
      ]
     },
     "execution_count": 40,
     "metadata": {},
     "output_type": "execute_result"
    }
   ],
   "source": [
    "var_reduction = var_total - weighted_var_after\n",
    "var_reduction"
   ]
  },
  {
   "cell_type": "code",
   "execution_count": null,
   "id": "3f18692d-d5d4-4eda-a3d8-ede9f06dc0d1",
   "metadata": {},
   "outputs": [],
   "source": []
  }
 ],
 "metadata": {
  "kernelspec": {
   "display_name": "Python 3 (ipykernel)",
   "language": "python",
   "name": "python3"
  },
  "language_info": {
   "codemirror_mode": {
    "name": "ipython",
    "version": 3
   },
   "file_extension": ".py",
   "mimetype": "text/x-python",
   "name": "python",
   "nbconvert_exporter": "python",
   "pygments_lexer": "ipython3",
   "version": "3.12.7"
  }
 },
 "nbformat": 4,
 "nbformat_minor": 5
}
